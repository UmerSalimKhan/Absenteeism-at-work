{
 "cells": [
  {
   "cell_type": "markdown",
   "id": "4f3305a0-03ba-4f5b-b7e8-035444bf92c6",
   "metadata": {},
   "source": [
    "# Importing libs"
   ]
  },
  {
   "cell_type": "code",
   "execution_count": 1,
   "id": "76fa3430-cd03-4d70-b985-476aac7af387",
   "metadata": {},
   "outputs": [],
   "source": [
    "import numpy as np\n",
    "import pandas as pd\n",
    "import matplotlib.pyplot as plt\n",
    "\n",
    "from sklearn.model_selection import train_test_split\n",
    "\n",
    "from sklearn.linear_model import LogisticRegression\n",
    "from sklearn.tree import DecisionTreeClassifier\n",
    "from sklearn.ensemble import RandomForestClassifier\n",
    "from sklearn.neighbors import KNeighborsClassifier\n",
    "from sklearn.naive_bayes import GaussianNB, BernoulliNB\n",
    "\n",
    "from sklearn.metrics import accuracy_score, classification_report, confusion_matrix\n",
    "\n",
    "from sklearn.model_selection import GridSearchCV, cross_val_score # Hyperparameter tuning"
   ]
  },
  {
   "cell_type": "markdown",
   "id": "2175fa8c-ea80-4cfb-a3c4-7144e98f66c6",
   "metadata": {},
   "source": [
    "# Loading data\n",
    "\n",
    "<h4>We will use data which is scaled as well as encoded, plus the target is grouped as well.</h4>"
   ]
  },
  {
   "cell_type": "code",
   "execution_count": 2,
   "id": "c74f22c7-9e35-44f4-b1ad-4b54397ad97b",
   "metadata": {},
   "outputs": [
    {
     "data": {
      "text/html": [
       "<div>\n",
       "<style scoped>\n",
       "    .dataframe tbody tr th:only-of-type {\n",
       "        vertical-align: middle;\n",
       "    }\n",
       "\n",
       "    .dataframe tbody tr th {\n",
       "        vertical-align: top;\n",
       "    }\n",
       "\n",
       "    .dataframe thead th {\n",
       "        text-align: right;\n",
       "    }\n",
       "</style>\n",
       "<table border=\"1\" class=\"dataframe\">\n",
       "  <thead>\n",
       "    <tr style=\"text-align: right;\">\n",
       "      <th></th>\n",
       "      <th>Unnamed: 0</th>\n",
       "      <th>Transportation expense</th>\n",
       "      <th>Distance from Residence to Work</th>\n",
       "      <th>Service time</th>\n",
       "      <th>Age</th>\n",
       "      <th>Work load Average/day</th>\n",
       "      <th>Hit target</th>\n",
       "      <th>Disciplinary failure</th>\n",
       "      <th>Education</th>\n",
       "      <th>Social drinker</th>\n",
       "      <th>...</th>\n",
       "      <th>Day of the week_4</th>\n",
       "      <th>Day of the week_5</th>\n",
       "      <th>Day of the week_6</th>\n",
       "      <th>Seasons_2</th>\n",
       "      <th>Seasons_3</th>\n",
       "      <th>Seasons_4</th>\n",
       "      <th>Son_1.0</th>\n",
       "      <th>Son_2.0</th>\n",
       "      <th>Son_3.0</th>\n",
       "      <th>Son_4.0</th>\n",
       "    </tr>\n",
       "  </thead>\n",
       "  <tbody>\n",
       "    <tr>\n",
       "      <th>0</th>\n",
       "      <td>0</td>\n",
       "      <td>0.995027</td>\n",
       "      <td>0.455546</td>\n",
       "      <td>0.115240</td>\n",
       "      <td>-0.527765</td>\n",
       "      <td>-0.829147</td>\n",
       "      <td>0.646636</td>\n",
       "      <td>-0.240192</td>\n",
       "      <td>-0.458054</td>\n",
       "      <td>0.882387</td>\n",
       "      <td>...</td>\n",
       "      <td>0</td>\n",
       "      <td>0</td>\n",
       "      <td>0</td>\n",
       "      <td>0</td>\n",
       "      <td>0</td>\n",
       "      <td>0</td>\n",
       "      <td>0</td>\n",
       "      <td>1</td>\n",
       "      <td>0</td>\n",
       "      <td>0</td>\n",
       "    </tr>\n",
       "    <tr>\n",
       "      <th>1</th>\n",
       "      <td>1</td>\n",
       "      <td>-1.545591</td>\n",
       "      <td>-1.105825</td>\n",
       "      <td>1.256464</td>\n",
       "      <td>2.075360</td>\n",
       "      <td>-0.829147</td>\n",
       "      <td>0.646636</td>\n",
       "      <td>4.163332</td>\n",
       "      <td>-0.458054</td>\n",
       "      <td>0.882387</td>\n",
       "      <td>...</td>\n",
       "      <td>0</td>\n",
       "      <td>0</td>\n",
       "      <td>0</td>\n",
       "      <td>0</td>\n",
       "      <td>0</td>\n",
       "      <td>0</td>\n",
       "      <td>1</td>\n",
       "      <td>0</td>\n",
       "      <td>0</td>\n",
       "      <td>0</td>\n",
       "    </tr>\n",
       "    <tr>\n",
       "      <th>2</th>\n",
       "      <td>2</td>\n",
       "      <td>-0.639288</td>\n",
       "      <td>1.473832</td>\n",
       "      <td>1.256464</td>\n",
       "      <td>0.237860</td>\n",
       "      <td>-0.829147</td>\n",
       "      <td>0.646636</td>\n",
       "      <td>-0.240192</td>\n",
       "      <td>-0.458054</td>\n",
       "      <td>0.882387</td>\n",
       "      <td>...</td>\n",
       "      <td>1</td>\n",
       "      <td>0</td>\n",
       "      <td>0</td>\n",
       "      <td>0</td>\n",
       "      <td>0</td>\n",
       "      <td>0</td>\n",
       "      <td>0</td>\n",
       "      <td>0</td>\n",
       "      <td>0</td>\n",
       "      <td>0</td>\n",
       "    </tr>\n",
       "    <tr>\n",
       "      <th>3</th>\n",
       "      <td>3</td>\n",
       "      <td>0.846453</td>\n",
       "      <td>-1.648911</td>\n",
       "      <td>0.343485</td>\n",
       "      <td>0.390985</td>\n",
       "      <td>-0.829147</td>\n",
       "      <td>0.646636</td>\n",
       "      <td>-0.240192</td>\n",
       "      <td>-0.458054</td>\n",
       "      <td>0.882387</td>\n",
       "      <td>...</td>\n",
       "      <td>0</td>\n",
       "      <td>1</td>\n",
       "      <td>0</td>\n",
       "      <td>0</td>\n",
       "      <td>0</td>\n",
       "      <td>0</td>\n",
       "      <td>0</td>\n",
       "      <td>1</td>\n",
       "      <td>0</td>\n",
       "      <td>0</td>\n",
       "    </tr>\n",
       "    <tr>\n",
       "      <th>4</th>\n",
       "      <td>4</td>\n",
       "      <td>0.995027</td>\n",
       "      <td>0.455546</td>\n",
       "      <td>0.115240</td>\n",
       "      <td>-0.527765</td>\n",
       "      <td>-0.829147</td>\n",
       "      <td>0.646636</td>\n",
       "      <td>-0.240192</td>\n",
       "      <td>-0.458054</td>\n",
       "      <td>0.882387</td>\n",
       "      <td>...</td>\n",
       "      <td>0</td>\n",
       "      <td>1</td>\n",
       "      <td>0</td>\n",
       "      <td>0</td>\n",
       "      <td>0</td>\n",
       "      <td>0</td>\n",
       "      <td>0</td>\n",
       "      <td>1</td>\n",
       "      <td>0</td>\n",
       "      <td>0</td>\n",
       "    </tr>\n",
       "  </tbody>\n",
       "</table>\n",
       "<p>5 rows × 44 columns</p>\n",
       "</div>"
      ],
      "text/plain": [
       "   Unnamed: 0  Transportation expense  Distance from Residence to Work  \\\n",
       "0           0                0.995027                         0.455546   \n",
       "1           1               -1.545591                        -1.105825   \n",
       "2           2               -0.639288                         1.473832   \n",
       "3           3                0.846453                        -1.648911   \n",
       "4           4                0.995027                         0.455546   \n",
       "\n",
       "   Service time       Age  Work load Average/day   Hit target  \\\n",
       "0      0.115240 -0.527765               -0.829147    0.646636   \n",
       "1      1.256464  2.075360               -0.829147    0.646636   \n",
       "2      1.256464  0.237860               -0.829147    0.646636   \n",
       "3      0.343485  0.390985               -0.829147    0.646636   \n",
       "4      0.115240 -0.527765               -0.829147    0.646636   \n",
       "\n",
       "   Disciplinary failure  Education  Social drinker  ...  Day of the week_4  \\\n",
       "0             -0.240192  -0.458054        0.882387  ...                  0   \n",
       "1              4.163332  -0.458054        0.882387  ...                  0   \n",
       "2             -0.240192  -0.458054        0.882387  ...                  1   \n",
       "3             -0.240192  -0.458054        0.882387  ...                  0   \n",
       "4             -0.240192  -0.458054        0.882387  ...                  0   \n",
       "\n",
       "   Day of the week_5  Day of the week_6  Seasons_2  Seasons_3  Seasons_4  \\\n",
       "0                  0                  0          0          0          0   \n",
       "1                  0                  0          0          0          0   \n",
       "2                  0                  0          0          0          0   \n",
       "3                  1                  0          0          0          0   \n",
       "4                  1                  0          0          0          0   \n",
       "\n",
       "   Son_1.0  Son_2.0  Son_3.0  Son_4.0  \n",
       "0        0        1        0        0  \n",
       "1        1        0        0        0  \n",
       "2        0        0        0        0  \n",
       "3        0        1        0        0  \n",
       "4        0        1        0        0  \n",
       "\n",
       "[5 rows x 44 columns]"
      ]
     },
     "execution_count": 2,
     "metadata": {},
     "output_type": "execute_result"
    }
   ],
   "source": [
    "df = pd.read_csv(\"ScaledEncoded_&_TargetGrouped_Absenteeism_at_work.csv\")\n",
    "\n",
    "df.head()"
   ]
  },
  {
   "cell_type": "markdown",
   "id": "e4279fd4-7180-4f4a-a795-48f5143f06ca",
   "metadata": {},
   "source": [
    "# Splitting data"
   ]
  },
  {
   "cell_type": "code",
   "execution_count": 3,
   "id": "b97e3c8a-5584-4ba1-810a-5a01358f8d61",
   "metadata": {},
   "outputs": [],
   "source": [
    "X = df.drop(['Absenteeism time in hours'], axis=1)\n",
    "y = df['Absenteeism time in hours']"
   ]
  },
  {
   "cell_type": "code",
   "execution_count": 4,
   "id": "2ced2079-6d13-401e-be69-a6a02f03ac63",
   "metadata": {},
   "outputs": [],
   "source": [
    "X_train, X_test, y_train, y_test = train_test_split(X, y, train_size=0.75, random_state=42)"
   ]
  },
  {
   "cell_type": "code",
   "execution_count": 5,
   "id": "bfa5d1c2-e3e8-46cb-91b6-bc820482fde7",
   "metadata": {},
   "outputs": [
    {
     "name": "stdout",
     "output_type": "stream",
     "text": [
      "(536, 43) (179, 43) (536,) (179,)\n"
     ]
    }
   ],
   "source": [
    "print(X_train.shape, X_test.shape, y_train.shape, y_test.shape)"
   ]
  },
  {
   "cell_type": "markdown",
   "id": "536ce958-a6ed-4cdd-9b2c-2a1316971468",
   "metadata": {},
   "source": [
    "# Initializing models"
   ]
  },
  {
   "cell_type": "code",
   "execution_count": 6,
   "id": "41fd24ae-7586-4693-9c56-3e5b4427a972",
   "metadata": {},
   "outputs": [],
   "source": [
    "models = dict()\n",
    "\n",
    "models['LogReg'] = LogisticRegression()\n",
    "models['DTC'] = DecisionTreeClassifier()\n",
    "models['RFC'] = RandomForestClassifier()\n",
    "models['Knn'] = KNeighborsClassifier()\n",
    "models['GNB'] = GaussianNB()\n",
    "models['BNB'] = BernoulliNB()"
   ]
  },
  {
   "cell_type": "markdown",
   "id": "cc0bd7f7-0472-4b18-8996-ed0e20cf5063",
   "metadata": {},
   "source": [
    "# Fitting the model & Evaluating"
   ]
  },
  {
   "cell_type": "code",
   "execution_count": 7,
   "id": "f415a06a-6994-4464-8434-8c7e59736755",
   "metadata": {},
   "outputs": [],
   "source": [
    "accuracies = dict()\n",
    "con_mat = dict()\n",
    "report = dict()"
   ]
  },
  {
   "cell_type": "code",
   "execution_count": 8,
   "id": "40e093c7-201b-4e65-89e1-19ae7adef515",
   "metadata": {},
   "outputs": [],
   "source": [
    "def fit_model(models, X_train, X_test, y_train, y_test):\n",
    "    for model_name, model in models.items():\n",
    "        model.fit(X_train, y_train)\n",
    "        y_pred = model.predict(X_test)\n",
    "        accuracies[model_name] = accuracy_score(y_test, y_pred)\n",
    "        con_mat[model_name] = confusion_matrix(y_test, y_pred)\n",
    "        report[model_name] = classification_report(y_test, y_pred)\n",
    "\n",
    "        print(f\"Accuracy of {model_name} \\nis {(accuracies[model_name]*100):.2f}%.\")"
   ]
  },
  {
   "cell_type": "code",
   "execution_count": 9,
   "id": "9609fa47-2fca-4f0c-9df0-415a85cd479f",
   "metadata": {},
   "outputs": [
    {
     "name": "stdout",
     "output_type": "stream",
     "text": [
      "Accuracy of LogReg \n",
      "is 92.74%.\n",
      "Accuracy of DTC \n",
      "is 87.15%.\n",
      "Accuracy of RFC \n",
      "is 92.18%.\n"
     ]
    },
    {
     "name": "stderr",
     "output_type": "stream",
     "text": [
      "D:\\Projects\\Absenteeism at work\\absenteeism_env\\Lib\\site-packages\\sklearn\\linear_model\\_logistic.py:465: ConvergenceWarning: lbfgs failed to converge (status=1):\n",
      "STOP: TOTAL NO. OF ITERATIONS REACHED LIMIT.\n",
      "\n",
      "Increase the number of iterations (max_iter) or scale the data as shown in:\n",
      "    https://scikit-learn.org/stable/modules/preprocessing.html\n",
      "Please also refer to the documentation for alternative solver options:\n",
      "    https://scikit-learn.org/stable/modules/linear_model.html#logistic-regression\n",
      "  n_iter_i = _check_optimize_result(\n"
     ]
    },
    {
     "name": "stdout",
     "output_type": "stream",
     "text": [
      "Accuracy of Knn \n",
      "is 92.74%.\n",
      "Accuracy of GNB \n",
      "is 63.69%.\n",
      "Accuracy of BNB \n",
      "is 91.06%.\n"
     ]
    },
    {
     "name": "stderr",
     "output_type": "stream",
     "text": [
      "D:\\Projects\\Absenteeism at work\\absenteeism_env\\Lib\\site-packages\\sklearn\\metrics\\_classification.py:1565: UndefinedMetricWarning: Precision is ill-defined and being set to 0.0 in labels with no predicted samples. Use `zero_division` parameter to control this behavior.\n",
      "  _warn_prf(average, modifier, f\"{metric.capitalize()} is\", len(result))\n",
      "D:\\Projects\\Absenteeism at work\\absenteeism_env\\Lib\\site-packages\\sklearn\\metrics\\_classification.py:1565: UndefinedMetricWarning: Precision is ill-defined and being set to 0.0 in labels with no predicted samples. Use `zero_division` parameter to control this behavior.\n",
      "  _warn_prf(average, modifier, f\"{metric.capitalize()} is\", len(result))\n",
      "D:\\Projects\\Absenteeism at work\\absenteeism_env\\Lib\\site-packages\\sklearn\\metrics\\_classification.py:1565: UndefinedMetricWarning: Precision is ill-defined and being set to 0.0 in labels with no predicted samples. Use `zero_division` parameter to control this behavior.\n",
      "  _warn_prf(average, modifier, f\"{metric.capitalize()} is\", len(result))\n"
     ]
    }
   ],
   "source": [
    "fit_model(models, X_train, X_test, y_train, y_test)"
   ]
  },
  {
   "cell_type": "markdown",
   "id": "fef55f19-7889-4adb-9fc0-b57784b56de7",
   "metadata": {},
   "source": [
    "* Visualizing metrics"
   ]
  },
  {
   "cell_type": "code",
   "execution_count": 10,
   "id": "0bc324ce-d7cb-470f-a600-94592d4d952d",
   "metadata": {},
   "outputs": [
    {
     "name": "stdout",
     "output_type": "stream",
     "text": [
      "{'LogReg': 0.9273743016759777, 'DTC': 0.8715083798882681, 'RFC': 0.9217877094972067, 'Knn': 0.9273743016759777, 'GNB': 0.6368715083798883, 'BNB': 0.9106145251396648}\n"
     ]
    }
   ],
   "source": [
    "print(accuracies)"
   ]
  },
  {
   "cell_type": "code",
   "execution_count": 11,
   "id": "06a1a631-bfb3-4090-9198-a9d9a26716f1",
   "metadata": {},
   "outputs": [],
   "source": [
    "def viz_accuracy(accuracies):\n",
    "    mod = list()\n",
    "    accuracy = list()\n",
    "\n",
    "    for model, acc in accuracies.items():\n",
    "        mod.append(model)\n",
    "        accuracy.append(round(acc * 100, 2))\n",
    "\n",
    "    plt.plot(mod, accuracy, marker='*', color='r')\n",
    "\n",
    "    # Annotate each point\n",
    "    for i, (model, acc) in enumerate(zip(models, accuracy)):\n",
    "        plt.annotate(f'{acc}%',  # Text to display\n",
    "                     (mod[i], accuracy[i]),  # Coordinates to place the annotation\n",
    "                     textcoords=\"offset points\",  # Offset the text slightly from the point\n",
    "                     xytext=(0, 10),  # Offset the text by 10 points above the marker\n",
    "                     ha='center',  # Horizontal alignment\n",
    "                     fontsize=9,  # Font size\n",
    "                     color='black')  # Font color\n",
    "        \n",
    "    plt.title(\"Model Vs. Accuracy\")\n",
    "    plt.xlabel(\"Models\")\n",
    "    plt.ylabel(\"Accuracy (%)\")\n",
    "    plt.xticks(rotation=45)\n",
    "    plt.grid()\n",
    "    plt.show()"
   ]
  },
  {
   "cell_type": "code",
   "execution_count": 12,
   "id": "6dc1c016-6f7c-4d62-93c5-9ff715826f9e",
   "metadata": {},
   "outputs": [
    {
     "data": {
      "image/png": "[encoded data removed]",
      "text/plain": [
       "<Figure size 640x480 with 1 Axes>"
      ]
     },
     "metadata": {},
     "output_type": "display_data"
    }
   ],
   "source": [
    "viz_accuracy(accuracies)"
   ]
  },
  {
   "cell_type": "markdown",
   "id": "ac887a10-bf58-47b5-962a-2f1f4f07fb7f",
   "metadata": {},
   "source": [
    "<h3>Logistic Regression & k- nearest neighbor is producing same accuracy of 92.74%</h3>\n",
    "<h4>We will try to fine tune both and will come up with something good, hopefully.</h4>"
   ]
  },
  {
   "cell_type": "markdown",
   "id": "b4c88009-aa52-4ef2-9f0d-6b3465127773",
   "metadata": {},
   "source": [
    "# Hyperparameter tuning"
   ]
  },
  {
   "cell_type": "code",
   "execution_count": 13,
   "id": "7f89847e-5555-4c0f-827d-c96c89edad64",
   "metadata": {},
   "outputs": [
    {
     "name": "stdout",
     "output_type": "stream",
     "text": [
      "Fitting 5 folds for each of 30 candidates, totalling 150 fits\n",
      "Best parameters for Logistic Regression: {'C': 0.001, 'max_iter': 2000, 'solver': 'lbfgs'}\n",
      "Best accuracy for Logistic Regression: 0.9440290758047768\n",
      "Fitting 5 folds for each of 30 candidates, totalling 150 fits\n",
      "Best parameters for KNN: {'metric': 'euclidean', 'n_neighbors': 7, 'weights': 'uniform'}\n",
      "Best accuracy for KNN: 0.9440290758047768\n"
     ]
    }
   ],
   "source": [
    "# 1. Logistic Regression - Hyperparameter tuning with GridSearchCV\n",
    "log_reg_params = {\n",
    "    'C': [0.001, 0.01, 0.1, 1, 10],\n",
    "    'solver': ['lbfgs', 'liblinear'],  # Switched to lbfgs and liblinear\n",
    "    'max_iter': [2000, 2500, 3000]  # More iterations for convergence\n",
    "}\n",
    "\n",
    "\n",
    "log_reg = LogisticRegression()\n",
    "\n",
    "# Grid search for Logistic Regression\n",
    "grid_search_lr = GridSearchCV(estimator=log_reg, param_grid=log_reg_params, cv=5, scoring='accuracy', verbose=1)\n",
    "grid_search_lr.fit(X_train, y_train)\n",
    "\n",
    "# Best parameters and best score for Logistic Regression\n",
    "print(f\"Best parameters for Logistic Regression: {grid_search_lr.best_params_}\")\n",
    "print(f\"Best accuracy for Logistic Regression: {grid_search_lr.best_score_}\")\n",
    "\n",
    "# 2. K-Nearest Neighbors - Hyperparameter tuning with GridSearchCV\n",
    "knn_params = {\n",
    "    'n_neighbors': [3, 5, 7, 9, 11],\n",
    "    'weights': ['uniform', 'distance'],\n",
    "    'metric': ['euclidean', 'manhattan', 'minkowski']\n",
    "}\n",
    "\n",
    "knn = KNeighborsClassifier()\n",
    "\n",
    "# Grid search for KNN\n",
    "grid_search_knn = GridSearchCV(estimator=knn, param_grid=knn_params, cv=5, scoring='accuracy', verbose=1)\n",
    "grid_search_knn.fit(X_train, y_train)\n",
    "\n",
    "# Best parameters and best score for KNN\n",
    "print(f\"Best parameters for KNN: {grid_search_knn.best_params_}\")\n",
    "print(f\"Best accuracy for KNN: {grid_search_knn.best_score_}\")"
   ]
  },
  {
   "cell_type": "markdown",
   "id": "e8055d47-29b3-4377-9e86-8d2efa277bab",
   "metadata": {},
   "source": [
    "<h4>The accuracy above is totally same for both the model even after fine-tuning. Let's choose logistic regression ahead. As it is good for binary classification than K-nearest neighbor.</h4>"
   ]
  },
  {
   "cell_type": "markdown",
   "id": "33200918-4002-4f61-900e-73f57c2e1e98",
   "metadata": {},
   "source": [
    "# Cross - Validation on best model"
   ]
  },
  {
   "cell_type": "markdown",
   "id": "5c583aad-dbaa-46f0-9530-6edf3b2205ad",
   "metadata": {},
   "source": [
    "* Logistic Regression"
   ]
  },
  {
   "cell_type": "code",
   "execution_count": 14,
   "id": "46fd1725-3fef-424b-b49e-d621417befe8",
   "metadata": {},
   "outputs": [
    {
     "name": "stdout",
     "output_type": "stream",
     "text": [
      "Cross-validation scores: [0.94405594 0.94405594 0.93706294 0.93706294 0.93706294]\n",
      "Mean cross-validation score: 0.9398601398601398\n"
     ]
    }
   ],
   "source": [
    "# Perform cross-validation on the best model\n",
    "cv_scores = cross_val_score(grid_search_lr.best_estimator_, X, y, cv=5, scoring='accuracy')\n",
    "\n",
    "# Print the cross-validation results\n",
    "print(f\"Cross-validation scores: {cv_scores}\")\n",
    "print(f\"Mean cross-validation score: {cv_scores.mean()}\")"
   ]
  },
  {
   "cell_type": "markdown",
   "id": "c5223cb4-06a6-437b-802a-a941e42afda5",
   "metadata": {},
   "source": [
    "* K - nearest neighbor (Safer side)"
   ]
  },
  {
   "cell_type": "code",
   "execution_count": 15,
   "id": "160973f9-383f-40c6-91ea-644671bc8d3d",
   "metadata": {},
   "outputs": [
    {
     "name": "stdout",
     "output_type": "stream",
     "text": [
      "Cross-validation scores: [0.94405594 0.47552448 0.93706294 0.93706294 0.93706294]\n",
      "Mean cross-validation score: 0.8461538461538461\n"
     ]
    }
   ],
   "source": [
    "# Perform cross-validation on the best model\n",
    "cv_scores = cross_val_score(grid_search_knn.best_estimator_, X, y, cv=5, scoring='accuracy')\n",
    "\n",
    "# Print the cross-validation results\n",
    "print(f\"Cross-validation scores: {cv_scores}\")\n",
    "print(f\"Mean cross-validation score: {cv_scores.mean()}\")"
   ]
  },
  {
   "cell_type": "markdown",
   "id": "f0566d17-646b-41a8-aa71-76eb29a2a4e5",
   "metadata": {},
   "source": [
    "<b>Decision:</b> <h4>Logistic Regression outperforms k - nearest neighbor, leading to approximately 94% accuracy overall.</h4>"
   ]
  },
  {
   "cell_type": "markdown",
   "id": "9bff3415-4e1a-4132-bdf3-f808237e0c70",
   "metadata": {},
   "source": [
    "# Final Hyperparamter tuning - Optuna"
   ]
  },
  {
   "cell_type": "code",
   "execution_count": 16,
   "id": "d3b5fd17-afcd-4dc8-8c04-a7f6db8f72ed",
   "metadata": {
    "scrolled": true
   },
   "outputs": [
    {
     "name": "stdout",
     "output_type": "stream",
     "text": [
      "Requirement already satisfied: optuna in d:\\projects\\absenteeism at work\\absenteeism_env\\lib\\site-packages (4.2.0)\n",
      "Requirement already satisfied: alembic>=1.5.0 in d:\\projects\\absenteeism at work\\absenteeism_env\\lib\\site-packages (from optuna) (1.14.1)\n",
      "Requirement already satisfied: colorlog in d:\\projects\\absenteeism at work\\absenteeism_env\\lib\\site-packages (from optuna) (6.9.0)\n",
      "Requirement already satisfied: numpy in d:\\projects\\absenteeism at work\\absenteeism_env\\lib\\site-packages (from optuna) (2.2.1)\n",
      "Requirement already satisfied: packaging>=20.0 in d:\\projects\\absenteeism at work\\absenteeism_env\\lib\\site-packages (from optuna) (24.2)\n",
      "Requirement already satisfied: sqlalchemy>=1.4.2 in d:\\projects\\absenteeism at work\\absenteeism_env\\lib\\site-packages (from optuna) (2.0.37)\n",
      "Requirement already satisfied: tqdm in d:\\projects\\absenteeism at work\\absenteeism_env\\lib\\site-packages (from optuna) (4.67.1)\n",
      "Requirement already satisfied: PyYAML in d:\\projects\\absenteeism at work\\absenteeism_env\\lib\\site-packages (from optuna) (6.0.2)\n",
      "Requirement already satisfied: Mako in d:\\projects\\absenteeism at work\\absenteeism_env\\lib\\site-packages (from alembic>=1.5.0->optuna) (1.3.8)\n",
      "Requirement already satisfied: typing-extensions>=4 in d:\\projects\\absenteeism at work\\absenteeism_env\\lib\\site-packages (from alembic>=1.5.0->optuna) (4.12.2)\n",
      "Requirement already satisfied: greenlet!=0.4.17 in d:\\projects\\absenteeism at work\\absenteeism_env\\lib\\site-packages (from sqlalchemy>=1.4.2->optuna) (3.1.1)\n",
      "Requirement already satisfied: colorama in d:\\projects\\absenteeism at work\\absenteeism_env\\lib\\site-packages (from colorlog->optuna) (0.4.6)\n",
      "Requirement already satisfied: MarkupSafe>=0.9.2 in d:\\projects\\absenteeism at work\\absenteeism_env\\lib\\site-packages (from Mako->alembic>=1.5.0->optuna) (3.0.2)\n"
     ]
    },
    {
     "name": "stderr",
     "output_type": "stream",
     "text": [
      "\n",
      "[notice] A new release of pip is available: 23.2.1 -> 25.0\n",
      "[notice] To update, run: python.exe -m pip install --upgrade pip\n"
     ]
    }
   ],
   "source": [
    "!pip install optuna"
   ]
  },
  {
   "cell_type": "code",
   "execution_count": 17,
   "id": "a99ecb71-bd60-4d5f-8fab-eed76d80b4b2",
   "metadata": {},
   "outputs": [
    {
     "name": "stderr",
     "output_type": "stream",
     "text": [
      "D:\\Projects\\Absenteeism at work\\absenteeism_env\\Lib\\site-packages\\tqdm\\auto.py:21: TqdmWarning: IProgress not found. Please update jupyter and ipywidgets. See https://ipywidgets.readthedocs.io/en/stable/user_install.html\n",
      "  from .autonotebook import tqdm as notebook_tqdm\n",
      "[I 2025-01-27 14:14:20,904] A new study created in memory with name: no-name-dfc7ddf3-156a-4e79-be08-e2ff2a4760b6\n",
      "[I 2025-01-27 14:14:20,951] Trial 0 finished with value: 0.9273743016759777 and parameters: {'model': 'logistic_regression', 'C': 0.0003524135797490289, 'solver': 'saga', 'max_iter': 240}. Best is trial 0 with value: 0.9273743016759777.\n",
      "[I 2025-01-27 14:14:20,951] Trial 1 finished with value: 0.9273743016759777 and parameters: {'model': 'logistic_regression', 'C': 4.996882324725668e-05, 'solver': 'liblinear', 'max_iter': 265}. Best is trial 0 with value: 0.9273743016759777.\n",
      "[I 2025-01-27 14:14:20,951] Trial 2 finished with value: 0.9273743016759777 and parameters: {'model': 'logistic_regression', 'C': 0.000589202836847409, 'solver': 'liblinear', 'max_iter': 300}. Best is trial 0 with value: 0.9273743016759777.\n",
      "[I 2025-01-27 14:14:20,998] Trial 3 finished with value: 0.9273743016759777 and parameters: {'model': 'logistic_regression', 'C': 0.18425373356723174, 'solver': 'saga', 'max_iter': 291}. Best is trial 0 with value: 0.9273743016759777.\n",
      "[I 2025-01-27 14:14:21,014] Trial 4 finished with value: 0.9273743016759777 and parameters: {'model': 'logistic_regression', 'C': 0.22795838547775182, 'solver': 'liblinear', 'max_iter': 248}. Best is trial 0 with value: 0.9273743016759777.\n",
      "[I 2025-01-27 14:14:21,014] Trial 5 finished with value: 0.9273743016759777 and parameters: {'model': 'logistic_regression', 'C': 2.0878226553431433e-05, 'solver': 'liblinear', 'max_iter': 287}. Best is trial 0 with value: 0.9273743016759777.\n",
      "[I 2025-01-27 14:14:21,014] Trial 6 finished with value: 0.9273743016759777 and parameters: {'model': 'logistic_regression', 'C': 1.411746748413266e-05, 'solver': 'liblinear', 'max_iter': 291}. Best is trial 0 with value: 0.9273743016759777.\n",
      "[I 2025-01-27 14:14:21,014] Trial 7 finished with value: 0.9273743016759777 and parameters: {'model': 'logistic_regression', 'C': 0.0011256363325515674, 'solver': 'liblinear', 'max_iter': 209}. Best is trial 0 with value: 0.9273743016759777.\n",
      "[I 2025-01-27 14:14:21,079] Trial 8 finished with value: 0.9273743016759777 and parameters: {'model': 'logistic_regression', 'C': 19.370508003042694, 'solver': 'saga', 'max_iter': 284}. Best is trial 0 with value: 0.9273743016759777.\n",
      "[I 2025-01-27 14:14:21,082] Trial 9 finished with value: 0.9441340782122905 and parameters: {'model': 'logistic_regression', 'C': 13.815354510882788, 'solver': 'liblinear', 'max_iter': 221}. Best is trial 9 with value: 0.9441340782122905.\n",
      "[I 2025-01-27 14:14:21,176] Trial 10 finished with value: 0.9273743016759777 and parameters: {'model': 'logistic_regression', 'C': 49.244012792174765, 'solver': 'saga', 'max_iter': 203}. Best is trial 9 with value: 0.9441340782122905.\n",
      "[I 2025-01-27 14:14:21,222] Trial 11 finished with value: 0.9273743016759777 and parameters: {'model': 'logistic_regression', 'C': 0.008364573193119956, 'solver': 'saga', 'max_iter': 228}. Best is trial 9 with value: 0.9441340782122905.\n",
      "[I 2025-01-27 14:14:21,269] Trial 12 finished with value: 0.9273743016759777 and parameters: {'model': 'logistic_regression', 'C': 4.102003260218355, 'solver': 'saga', 'max_iter': 231}. Best is trial 9 with value: 0.9441340782122905.\n",
      "[I 2025-01-27 14:14:21,316] Trial 13 finished with value: 0.9273743016759777 and parameters: {'model': 'logistic_regression', 'C': 1.9161250502312166, 'solver': 'saga', 'max_iter': 228}. Best is trial 9 with value: 0.9441340782122905.\n",
      "[I 2025-01-27 14:14:21,316] Trial 14 finished with value: 0.9273743016759777 and parameters: {'model': 'logistic_regression', 'C': 0.01564461025577269, 'solver': 'liblinear', 'max_iter': 249}. Best is trial 9 with value: 0.9441340782122905.\n",
      "[I 2025-01-27 14:14:21,363] Trial 15 finished with value: 0.9273743016759777 and parameters: {'model': 'logistic_regression', 'C': 0.0005342054006174468, 'solver': 'saga', 'max_iter': 239}. Best is trial 9 with value: 0.9441340782122905.\n",
      "[I 2025-01-27 14:14:21,379] Trial 16 finished with value: 0.9273743016759777 and parameters: {'model': 'logistic_regression', 'C': 0.1783838972560382, 'solver': 'liblinear', 'max_iter': 219}. Best is trial 9 with value: 0.9441340782122905.\n",
      "[I 2025-01-27 14:14:21,423] Trial 17 finished with value: 0.9273743016759777 and parameters: {'model': 'logistic_regression', 'C': 0.0031809822556813755, 'solver': 'saga', 'max_iter': 262}. Best is trial 9 with value: 0.9441340782122905.\n",
      "[I 2025-01-27 14:14:21,438] Trial 18 finished with value: 0.9385474860335196 and parameters: {'model': 'logistic_regression', 'C': 1.3946115185951968, 'solver': 'liblinear', 'max_iter': 215}. Best is trial 9 with value: 0.9441340782122905.\n",
      "[I 2025-01-27 14:14:21,454] Trial 19 finished with value: 0.9385474860335196 and parameters: {'model': 'logistic_regression', 'C': 1.702854808766107, 'solver': 'liblinear', 'max_iter': 215}. Best is trial 9 with value: 0.9441340782122905.\n",
      "[I 2025-01-27 14:14:21,454] Trial 20 finished with value: 0.9441340782122905 and parameters: {'model': 'logistic_regression', 'C': 9.23178275670898, 'solver': 'liblinear', 'max_iter': 219}. Best is trial 9 with value: 0.9441340782122905.\n",
      "[I 2025-01-27 14:14:21,475] Trial 21 finished with value: 0.9441340782122905 and parameters: {'model': 'logistic_regression', 'C': 13.500137615884016, 'solver': 'liblinear', 'max_iter': 200}. Best is trial 9 with value: 0.9441340782122905.\n",
      "[I 2025-01-27 14:14:21,479] Trial 22 finished with value: 0.9441340782122905 and parameters: {'model': 'logistic_regression', 'C': 12.081730901317997, 'solver': 'liblinear', 'max_iter': 203}. Best is trial 9 with value: 0.9441340782122905.\n",
      "[I 2025-01-27 14:14:21,494] Trial 23 finished with value: 0.9385474860335196 and parameters: {'model': 'logistic_regression', 'C': 75.0783073764793, 'solver': 'liblinear', 'max_iter': 200}. Best is trial 9 with value: 0.9441340782122905.\n",
      "[I 2025-01-27 14:14:21,494] Trial 24 finished with value: 0.9441340782122905 and parameters: {'model': 'logistic_regression', 'C': 9.42661420498018, 'solver': 'liblinear', 'max_iter': 220}. Best is trial 9 with value: 0.9441340782122905.\n",
      "[I 2025-01-27 14:14:21,510] Trial 25 finished with value: 0.9329608938547486 and parameters: {'model': 'logistic_regression', 'C': 0.560494397179601, 'solver': 'liblinear', 'max_iter': 212}. Best is trial 9 with value: 0.9441340782122905.\n",
      "[I 2025-01-27 14:14:21,525] Trial 26 finished with value: 0.9273743016759777 and parameters: {'model': 'logistic_regression', 'C': 0.04806613157004256, 'solver': 'liblinear', 'max_iter': 224}. Best is trial 9 with value: 0.9441340782122905.\n",
      "[I 2025-01-27 14:14:21,525] Trial 27 finished with value: 0.9385474860335196 and parameters: {'model': 'logistic_regression', 'C': 94.987426695651, 'solver': 'liblinear', 'max_iter': 236}. Best is trial 9 with value: 0.9441340782122905.\n",
      "[I 2025-01-27 14:14:21,541] Trial 28 finished with value: 0.9441340782122905 and parameters: {'model': 'logistic_regression', 'C': 19.363423517526897, 'solver': 'liblinear', 'max_iter': 259}. Best is trial 9 with value: 0.9441340782122905.\n",
      "[I 2025-01-27 14:14:21,541] Trial 29 finished with value: 0.9385474860335196 and parameters: {'model': 'logistic_regression', 'C': 5.569640386708804, 'solver': 'liblinear', 'max_iter': 208}. Best is trial 9 with value: 0.9441340782122905.\n",
      "[I 2025-01-27 14:14:21,557] Trial 30 finished with value: 0.9385474860335196 and parameters: {'model': 'logistic_regression', 'C': 34.69553963320291, 'solver': 'liblinear', 'max_iter': 242}. Best is trial 9 with value: 0.9441340782122905.\n",
      "[I 2025-01-27 14:14:21,572] Trial 31 finished with value: 0.9441340782122905 and parameters: {'model': 'logistic_regression', 'C': 10.400100818934884, 'solver': 'liblinear', 'max_iter': 205}. Best is trial 9 with value: 0.9441340782122905.\n",
      "[I 2025-01-27 14:14:21,588] Trial 32 finished with value: 0.9329608938547486 and parameters: {'model': 'logistic_regression', 'C': 3.677379964072238, 'solver': 'liblinear', 'max_iter': 201}. Best is trial 9 with value: 0.9441340782122905.\n",
      "[I 2025-01-27 14:14:21,588] Trial 33 finished with value: 0.9329608938547486 and parameters: {'model': 'logistic_regression', 'C': 0.5003850402800826, 'solver': 'liblinear', 'max_iter': 221}. Best is trial 9 with value: 0.9441340782122905.\n",
      "[I 2025-01-27 14:14:21,603] Trial 34 finished with value: 0.9441340782122905 and parameters: {'model': 'logistic_regression', 'C': 20.744520682305527, 'solver': 'liblinear', 'max_iter': 211}. Best is trial 9 with value: 0.9441340782122905.\n",
      "[I 2025-01-27 14:14:21,619] Trial 35 finished with value: 0.9273743016759777 and parameters: {'model': 'logistic_regression', 'C': 0.06749864785361617, 'solver': 'liblinear', 'max_iter': 200}. Best is trial 9 with value: 0.9441340782122905.\n",
      "[I 2025-01-27 14:14:21,619] Trial 36 finished with value: 0.9329608938547486 and parameters: {'model': 'logistic_regression', 'C': 0.745680981412393, 'solver': 'liblinear', 'max_iter': 272}. Best is trial 9 with value: 0.9441340782122905.\n",
      "[I 2025-01-27 14:14:21,635] Trial 37 finished with value: 0.9273743016759777 and parameters: {'model': 'logistic_regression', 'C': 8.269556583888713e-05, 'solver': 'liblinear', 'max_iter': 217}. Best is trial 9 with value: 0.9441340782122905.\n",
      "[I 2025-01-27 14:14:21,635] Trial 38 finished with value: 0.9441340782122905 and parameters: {'model': 'logistic_regression', 'C': 7.161627460126737, 'solver': 'liblinear', 'max_iter': 208}. Best is trial 9 with value: 0.9441340782122905.\n",
      "[I 2025-01-27 14:14:21,650] Trial 39 finished with value: 0.9385474860335196 and parameters: {'model': 'logistic_regression', 'C': 34.86243213975201, 'solver': 'liblinear', 'max_iter': 225}. Best is trial 9 with value: 0.9441340782122905.\n",
      "[I 2025-01-27 14:14:21,666] Trial 40 finished with value: 0.9273743016759777 and parameters: {'model': 'logistic_regression', 'C': 0.1986783105169076, 'solver': 'liblinear', 'max_iter': 233}. Best is trial 9 with value: 0.9441340782122905.\n",
      "[I 2025-01-27 14:14:21,666] Trial 41 finished with value: 0.9441340782122905 and parameters: {'model': 'logistic_regression', 'C': 11.09000365431856, 'solver': 'liblinear', 'max_iter': 221}. Best is trial 9 with value: 0.9441340782122905.\n",
      "[I 2025-01-27 14:14:21,682] Trial 42 finished with value: 0.9329608938547486 and parameters: {'model': 'logistic_regression', 'C': 3.17361349635972, 'solver': 'liblinear', 'max_iter': 205}. Best is trial 9 with value: 0.9441340782122905.\n",
      "[I 2025-01-27 14:14:21,697] Trial 43 finished with value: 0.9441340782122905 and parameters: {'model': 'logistic_regression', 'C': 11.428522525134873, 'solver': 'liblinear', 'max_iter': 211}. Best is trial 9 with value: 0.9441340782122905.\n",
      "[I 2025-01-27 14:14:21,713] Trial 44 finished with value: 0.9385474860335196 and parameters: {'model': 'logistic_regression', 'C': 27.109871394999683, 'solver': 'liblinear', 'max_iter': 244}. Best is trial 9 with value: 0.9441340782122905.\n",
      "[I 2025-01-27 14:14:21,713] Trial 45 finished with value: 0.9385474860335196 and parameters: {'model': 'logistic_regression', 'C': 2.3418082707585763, 'solver': 'liblinear', 'max_iter': 206}. Best is trial 9 with value: 0.9441340782122905.\n",
      "[I 2025-01-27 14:14:21,728] Trial 46 finished with value: 0.9329608938547486 and parameters: {'model': 'logistic_regression', 'C': 1.0724796662420222, 'solver': 'liblinear', 'max_iter': 253}. Best is trial 9 with value: 0.9441340782122905.\n",
      "[I 2025-01-27 14:14:21,775] Trial 47 finished with value: 0.9273743016759777 and parameters: {'model': 'logistic_regression', 'C': 57.13911273302765, 'solver': 'saga', 'max_iter': 214}. Best is trial 9 with value: 0.9441340782122905.\n",
      "[I 2025-01-27 14:14:21,775] Trial 48 finished with value: 0.9441340782122905 and parameters: {'model': 'logistic_regression', 'C': 7.789828967593209, 'solver': 'liblinear', 'max_iter': 229}. Best is trial 9 with value: 0.9441340782122905.\n",
      "[I 2025-01-27 14:14:21,791] Trial 49 finished with value: 0.9329608938547486 and parameters: {'model': 'logistic_regression', 'C': 0.3507961087099397, 'solver': 'liblinear', 'max_iter': 224}. Best is trial 9 with value: 0.9441340782122905.\n"
     ]
    },
    {
     "name": "stdout",
     "output_type": "stream",
     "text": [
      "Best trial: {'model': 'logistic_regression', 'C': 13.815354510882788, 'solver': 'liblinear', 'max_iter': 221}\n",
      "Best accuracy: 0.9441340782122905\n"
     ]
    }
   ],
   "source": [
    "import optuna\n",
    "import warnings; warnings.filterwarnings(\"ignore\")\n",
    "\n",
    "def objective(trial):\n",
    "    # Objective function for Optuna\n",
    "    model_type = trial.suggest_categorical('model', ['logistic_regression'])\n",
    "    \n",
    "    C = trial.suggest_loguniform('C', 1e-5, 100)\n",
    "    solver = trial.suggest_categorical('solver', ['liblinear', 'saga'])\n",
    "    max_iter = trial.suggest_int('max_iter', 200, 300)\n",
    "    model = LogisticRegression(C=C, solver=solver, max_iter=max_iter)\n",
    "    \n",
    "    # Fit the model\n",
    "    model.fit(X_train, y_train)\n",
    "    accuracy = model.score(X_test, y_test)\n",
    "    \n",
    "    return accuracy\n",
    "\n",
    "# Create Optuna study and optimize the objective function\n",
    "study = optuna.create_study(direction='maximize')\n",
    "study.optimize(objective, n_trials=50)\n",
    "\n",
    "# Print the best trial results\n",
    "print(f\"Best trial: {study.best_trial.params}\")\n",
    "print(f\"Best accuracy: {study.best_trial.value}\")"
   ]
  },
  {
   "cell_type": "markdown",
   "id": "5d8c9fb0-40a1-4db1-9f9c-7fa00cbb0cd1",
   "metadata": {},
   "source": [
    "<h3>After our last optimization, we have reached an accuracy of about 94.41%. Which is better than what we have in past.</h3>"
   ]
  },
  {
   "cell_type": "markdown",
   "id": "b7684a5a-b14b-45a3-957a-a7aec33e2eec",
   "metadata": {},
   "source": [
    "# Dumping"
   ]
  },
  {
   "cell_type": "code",
   "execution_count": 18,
   "id": "57c1a420-8989-42fe-b9a9-a227a285b74c",
   "metadata": {},
   "outputs": [
    {
     "name": "stdout",
     "output_type": "stream",
     "text": [
      "Best model dumped as 'log_reg_absenteeism_acc_94per.joblib'\n"
     ]
    }
   ],
   "source": [
    "from joblib import dump\n",
    "\n",
    "# Get the best parameters, excluding invalid keys\n",
    "valid_params = {key: value for key, value in study.best_trial.params.items() if key in LogisticRegression().get_params()}\n",
    "\n",
    "# Recreate the model using the valid parameters\n",
    "best_model = LogisticRegression(**valid_params)\n",
    "\n",
    "# Fit the model on the training data\n",
    "best_model.fit(X_train, y_train)\n",
    "\n",
    "# Dump the model to a file\n",
    "dump(best_model, 'log_reg_absenteeism_acc_94per.joblib')\n",
    "\n",
    "print(\"Best model dumped as 'log_reg_absenteeism_acc_94per.joblib'\")\n"
   ]
  },
  {
   "cell_type": "markdown",
   "id": "436e997a-ddab-4ff0-9a20-c9a828c4d24f",
   "metadata": {},
   "source": [
    "# Testing"
   ]
  },
  {
   "cell_type": "code",
   "execution_count": 19,
   "id": "b4cc8661-8c39-41b2-b134-d51a52bb3ca4",
   "metadata": {},
   "outputs": [
    {
     "name": "stdout",
     "output_type": "stream",
     "text": [
      "Accuracy of the loaded model: 0.94\n"
     ]
    }
   ],
   "source": [
    "from joblib import load\n",
    "\n",
    "# Load the dumped model\n",
    "loaded_model = load('log_reg_absenteeism_acc_94per.joblib')\n",
    "\n",
    "# Predict on the test set\n",
    "y_pred = loaded_model.predict(X_test)\n",
    "\n",
    "# Evaluate accuracy\n",
    "accuracy = accuracy_score(y_test, y_pred)\n",
    "print(f\"Accuracy of the loaded model: {accuracy:.2f}\")"
   ]
  },
  {
   "cell_type": "markdown",
   "id": "7b600eca-ce92-4e72-91bf-21a8c878edd4",
   "metadata": {},
   "source": [
    "# Results:\n",
    "\n",
    "\n",
    "> <h4> We perform data analysis in good manner in another jupyter notebook. </h4> \n",
    "> <h4> We saved multiple dataset after cleaning, encoding, scaling, & grouping. </h4> \n",
    "> <h4> We also train & test multiple machine learning model. </h4> \n",
    "> <h4> We picked up the model for finetuning using GridSearchCV & cross validation testing. </h4> \n",
    "> <h4> We fine tune the best model using Optuna. </h4> \n",
    "> <h4> We dumped the fine-tuned best model. </h4> \n",
    "> <h4> Finally we perform final testing on the dumped model. </h4>\n"
   ]
  }
 ],
 "metadata": {
  "kernelspec": {
   "display_name": "Python 3 (ipykernel)",
   "language": "python",
   "name": "python3"
  },
  "language_info": {
   "codemirror_mode": {
    "name": "ipython",
    "version": 3
   },
   "file_extension": ".py",
   "mimetype": "text/x-python",
   "name": "python",
   "nbconvert_exporter": "python",
   "pygments_lexer": "ipython3",
   "version": "3.12.1"
  }
 },
 "nbformat": 4,
 "nbformat_minor": 5
}
